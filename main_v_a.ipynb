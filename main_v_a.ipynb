{
 "cells": [
  {
   "cell_type": "markdown",
   "id": "741016b3-c39b-4148-b199-9bd3be97c1c7",
   "metadata": {},
   "source": [
    "For this project I will be using `Annotation Averaged Per Song` because it simplies the task and provides a more consistent emotional profile for entire song."
   ]
  },
  {
   "cell_type": "markdown",
   "id": "9aa36d3c-de6f-47f8-b4c7-740b06f59817",
   "metadata": {},
   "source": [
    "Steps Involved:\n",
    "1. EDA\n",
    "2. PCA\n",
    "3. Clustering\n",
    "4. Classification"
   ]
  },
  {
   "cell_type": "code",
   "execution_count": 6,
   "id": "95f1df6f-0157-4824-8dc2-a435627988dd",
   "metadata": {},
   "outputs": [
    {
     "data": {
      "text/plain": [
       "(   song_id  sample_15000ms  sample_15500ms  sample_16000ms  sample_16500ms  \\\n",
       " 0        2       -0.109386       -0.114942       -0.116413       -0.118613   \n",
       " 1        3       -0.110846       -0.123973       -0.131103       -0.135956   \n",
       " 2        4        0.222327        0.179446        0.178388        0.184056   \n",
       " 3        5       -0.255613       -0.251579       -0.251958       -0.251124   \n",
       " 4        7        0.464234        0.460789        0.460991        0.461046   \n",
       " \n",
       "    sample_17000ms  sample_17500ms  sample_18000ms  sample_18500ms  \\\n",
       " 0       -0.126457       -0.133199       -0.136855       -0.144713   \n",
       " 1       -0.140775       -0.144664       -0.163118       -0.165218   \n",
       " 2        0.176042        0.178720        0.176345        0.175793   \n",
       " 3       -0.250763       -0.251957       -0.251957       -0.251957   \n",
       " 4        0.457240        0.465702        0.471809        0.469918   \n",
       " \n",
       "    sample_19000ms  ...  sample_622000ms  sample_622500ms  sample_623000ms  \\\n",
       " 0       -0.138985  ...              NaN              NaN              NaN   \n",
       " 1       -0.158858  ...              NaN              NaN              NaN   \n",
       " 2        0.176154  ...              NaN              NaN              NaN   \n",
       " 3       -0.251957  ...              NaN              NaN              NaN   \n",
       " 4        0.473377  ...              NaN              NaN              NaN   \n",
       " \n",
       "    sample_623500ms  sample_624000ms  sample_624500ms  sample_625000ms  \\\n",
       " 0              NaN              NaN              NaN              NaN   \n",
       " 1              NaN              NaN              NaN              NaN   \n",
       " 2              NaN              NaN              NaN              NaN   \n",
       " 3              NaN              NaN              NaN              NaN   \n",
       " 4              NaN              NaN              NaN              NaN   \n",
       " \n",
       "    sample_625500ms  sample_626000ms  sample_626500ms  \n",
       " 0              NaN              NaN              NaN  \n",
       " 1              NaN              NaN              NaN  \n",
       " 2              NaN              NaN              NaN  \n",
       " 3              NaN              NaN              NaN  \n",
       " 4              NaN              NaN              NaN  \n",
       " \n",
       " [5 rows x 1225 columns],\n",
       "    song_id  sample_15000ms  sample_15500ms  sample_16000ms  sample_16500ms  \\\n",
       " 0        2       -0.073341       -0.074661       -0.074077       -0.078154   \n",
       " 1        3       -0.189702       -0.187765       -0.183740       -0.188761   \n",
       " 2        4        0.154286        0.148063        0.146956        0.151180   \n",
       " 3        5        0.149053        0.148260        0.147369        0.146956   \n",
       " 4        7        0.342816        0.345193        0.332023        0.328887   \n",
       " \n",
       "    sample_17000ms  sample_17500ms  sample_18000ms  sample_18500ms  \\\n",
       " 0       -0.081588       -0.080873       -0.083611       -0.082145   \n",
       " 1       -0.193704       -0.190834       -0.189041       -0.197554   \n",
       " 2        0.135942        0.076832        0.084487        0.088513   \n",
       " 3        0.147857        0.146927        0.145651        0.145795   \n",
       " 4        0.327603        0.329011        0.327883        0.334822   \n",
       " \n",
       "    sample_19000ms  ...  sample_621500ms  sample_622000ms  sample_622500ms  \\\n",
       " 0       -0.081632  ...              NaN              NaN              NaN   \n",
       " 1       -0.202871  ...              NaN              NaN              NaN   \n",
       " 2        0.090944  ...              NaN              NaN              NaN   \n",
       " 3        0.146420  ...              NaN              NaN              NaN   \n",
       " 4        0.328447  ...              NaN              NaN              NaN   \n",
       " \n",
       "    sample_623000ms  sample_623500ms  sample_624000ms  sample_624500ms  \\\n",
       " 0              NaN              NaN              NaN              NaN   \n",
       " 1              NaN              NaN              NaN              NaN   \n",
       " 2              NaN              NaN              NaN              NaN   \n",
       " 3              NaN              NaN              NaN              NaN   \n",
       " 4              NaN              NaN              NaN              NaN   \n",
       " \n",
       "    sample_625000ms  sample_625500ms  sample_626000ms  \n",
       " 0              NaN              NaN              NaN  \n",
       " 1              NaN              NaN              NaN  \n",
       " 2              NaN              NaN              NaN  \n",
       " 3              NaN              NaN              NaN  \n",
       " 4              NaN              NaN              NaN  \n",
       " \n",
       " [5 rows x 1224 columns])"
      ]
     },
     "execution_count": 6,
     "metadata": {},
     "output_type": "execute_result"
    }
   ],
   "source": [
    "# step 0: Data Loading\n",
    "import pandas as pd\n",
    "\n",
    "\n",
    "arousal_path = './data/annotations/arousal.csv'\n",
    "valence_path = './data/annotations/valence.csv'\n",
    "\n",
    "# Load the CSV files into dataframes\n",
    "arousal_df = pd.read_csv(arousal_path)\n",
    "valence_df = pd.read_csv(valence_path)\n",
    "\n",
    "# Display first few rows of both dataframes to understand the structure\n",
    "arousal_df.head(), valence_df.head()\n"
   ]
  },
  {
   "cell_type": "markdown",
   "id": "67f20ec9-6e99-45d8-b343-9780f16bc366",
   "metadata": {},
   "source": [
    "Based on the structure of the arousal and valence datasets, the data contains time-series information of various time stamps like sample_15000ms, sample_15500ms, etc. for each song. The first column is the song_id, followed by sampled values of arousal and valence at different time intervals."
   ]
  },
  {
   "cell_type": "markdown",
   "id": "93c80a12-a914-42b8-a2ce-5ebc2a001be9",
   "metadata": {},
   "source": [
    "# Step 1: `EDA`\n",
    "1. To get insights into the data, such as distribution, missing values, correlations, and overall trends in the valence and arousal ratings over time. \n",
    "2. This helps identify potential issues and guide decisions for feature selection and model building."
   ]
  },
  {
   "cell_type": "code",
   "execution_count": 7,
   "id": "8bd9f37c-451c-44ab-ad42-786f76cc3e55",
   "metadata": {},
   "outputs": [
    {
     "data": {
      "text/plain": [
       "(np.int64(2075649),\n",
       " np.int64(2073848),\n",
       "            song_id  sample_15000ms  sample_15500ms  sample_16000ms  \\\n",
       " count  1802.000000     1802.000000     1802.000000     1802.000000   \n",
       " mean   1093.215871        0.123961        0.124999        0.125694   \n",
       " std     599.658004        0.266756        0.267682        0.268578   \n",
       " min       2.000000       -0.654305       -0.654348       -0.655628   \n",
       " 25%     569.500000       -0.071864       -0.070000       -0.072250   \n",
       " 50%    1157.500000        0.139000        0.140830        0.144438   \n",
       " 75%    1607.750000        0.341000        0.341581        0.343351   \n",
       " max    2058.000000        0.678000        0.687000        0.688000   \n",
       " \n",
       "        sample_16500ms  sample_17000ms  sample_17500ms  sample_18000ms  \\\n",
       " count     1802.000000     1802.000000     1802.000000     1802.000000   \n",
       " mean         0.126370        0.126515        0.126578        0.126825   \n",
       " std          0.269261        0.269770        0.270248        0.270959   \n",
       " min         -0.663082       -0.664821       -0.665411       -0.667466   \n",
       " 25%         -0.072093       -0.073750       -0.069962       -0.076000   \n",
       " 50%          0.144235        0.143667        0.140169        0.141000   \n",
       " 75%          0.344000        0.343506        0.344971        0.346750   \n",
       " max          0.696000        0.693000        0.688000        0.695000   \n",
       " \n",
       "        sample_18500ms  sample_19000ms  ...  sample_622000ms  sample_622500ms  \\\n",
       " count     1802.000000     1802.000000  ...             1.00             1.00   \n",
       " mean         0.127375        0.127409  ...            -0.05            -0.05   \n",
       " std          0.272065        0.272942  ...              NaN              NaN   \n",
       " min         -0.668622       -0.661271  ...            -0.05            -0.05   \n",
       " 25%         -0.076922       -0.077000  ...            -0.05            -0.05   \n",
       " 50%          0.142247        0.142000  ...            -0.05            -0.05   \n",
       " 75%          0.348424        0.350978  ...            -0.05            -0.05   \n",
       " max          0.698000        0.702000  ...            -0.05            -0.05   \n",
       " \n",
       "        sample_623000ms  sample_623500ms  sample_624000ms  sample_624500ms  \\\n",
       " count            1.000             1.00            1.000            1.000   \n",
       " mean            -0.056            -0.17           -0.236           -0.332   \n",
       " std                NaN              NaN              NaN              NaN   \n",
       " min             -0.056            -0.17           -0.236           -0.332   \n",
       " 25%             -0.056            -0.17           -0.236           -0.332   \n",
       " 50%             -0.056            -0.17           -0.236           -0.332   \n",
       " 75%             -0.056            -0.17           -0.236           -0.332   \n",
       " max             -0.056            -0.17           -0.236           -0.332   \n",
       " \n",
       "        sample_625000ms  sample_625500ms  sample_626000ms  sample_626500ms  \n",
       " count             1.00            1.000             1.00            1.000  \n",
       " mean             -0.37           -0.392            -0.39           -0.378  \n",
       " std                NaN              NaN              NaN              NaN  \n",
       " min              -0.37           -0.392            -0.39           -0.378  \n",
       " 25%              -0.37           -0.392            -0.39           -0.378  \n",
       " 50%              -0.37           -0.392            -0.39           -0.378  \n",
       " 75%              -0.37           -0.392            -0.39           -0.378  \n",
       " max              -0.37           -0.392            -0.39           -0.378  \n",
       " \n",
       " [8 rows x 1225 columns],\n",
       "            song_id  sample_15000ms  sample_15500ms  sample_16000ms  \\\n",
       " count  1802.000000     1802.000000     1802.000000     1802.000000   \n",
       " mean   1093.215871        0.100265        0.100442        0.100808   \n",
       " std     599.658004        0.210479        0.211540        0.212936   \n",
       " min       2.000000       -0.581823       -0.584132       -0.593335   \n",
       " 25%     569.500000       -0.048420       -0.045530       -0.046436   \n",
       " 50%    1157.500000        0.105500        0.105630        0.107000   \n",
       " 75%    1607.750000        0.254341        0.255000        0.258975   \n",
       " max    2058.000000        0.614000        0.601000        0.600000   \n",
       " \n",
       "        sample_16500ms  sample_17000ms  sample_17500ms  sample_18000ms  \\\n",
       " count     1802.000000     1802.000000     1802.000000     1802.000000   \n",
       " mean         0.100297        0.100203        0.099390        0.099205   \n",
       " std          0.213369        0.215074        0.216388        0.217358   \n",
       " min         -0.593696       -0.595547       -0.600594       -0.611527   \n",
       " 25%         -0.047475       -0.048000       -0.048000       -0.050986   \n",
       " 50%          0.105000        0.104594        0.103500        0.103448   \n",
       " 75%          0.259000        0.263948        0.261392        0.264000   \n",
       " max          0.614000        0.627000        0.641000        0.634000   \n",
       " \n",
       "        sample_18500ms  sample_19000ms  ...  sample_621500ms  sample_622000ms  \\\n",
       " count     1802.000000     1802.000000  ...            1.000            1.000   \n",
       " mean         0.099683        0.099590  ...           -0.158           -0.158   \n",
       " std          0.218508        0.219200  ...              NaN              NaN   \n",
       " min         -0.613262       -0.615290  ...           -0.158           -0.158   \n",
       " 25%         -0.049500       -0.050868  ...           -0.158           -0.158   \n",
       " 50%          0.100500        0.103000  ...           -0.158           -0.158   \n",
       " 75%          0.267750        0.266049  ...           -0.158           -0.158   \n",
       " max          0.611000        0.636000  ...           -0.158           -0.158   \n",
       " \n",
       "        sample_622500ms  sample_623000ms  sample_623500ms  sample_624000ms  \\\n",
       " count            1.000            1.000             1.00             1.00   \n",
       " mean            -0.156           -0.154            -0.15            -0.15   \n",
       " std                NaN              NaN              NaN              NaN   \n",
       " min             -0.156           -0.154            -0.15            -0.15   \n",
       " 25%             -0.156           -0.154            -0.15            -0.15   \n",
       " 50%             -0.156           -0.154            -0.15            -0.15   \n",
       " 75%             -0.156           -0.154            -0.15            -0.15   \n",
       " max             -0.156           -0.154            -0.15            -0.15   \n",
       " \n",
       "        sample_624500ms  sample_625000ms  sample_625500ms  sample_626000ms  \n",
       " count            1.000             1.00            1.000            1.000  \n",
       " mean            -0.152            -0.15           -0.136           -0.112  \n",
       " std                NaN              NaN              NaN              NaN  \n",
       " min             -0.152            -0.15           -0.136           -0.112  \n",
       " 25%             -0.152            -0.15           -0.136           -0.112  \n",
       " 50%             -0.152            -0.15           -0.136           -0.112  \n",
       " 75%             -0.152            -0.15           -0.136           -0.112  \n",
       " max             -0.152            -0.15           -0.136           -0.112  \n",
       " \n",
       " [8 rows x 1224 columns])"
      ]
     },
     "execution_count": 7,
     "metadata": {},
     "output_type": "execute_result"
    }
   ],
   "source": [
    "# EDA: Checking for missing values\n",
    "arousal_missing = arousal_df.isnull().sum().sum()\n",
    "valence_missing = valence_df.isnull().sum().sum()\n",
    "\n",
    "# EDA: Summary statistics for valence and arousal (initial time series)\n",
    "arousal_summary = arousal_df.describe()\n",
    "valence_summary = valence_df.describe()\n",
    "\n",
    "# Display the summary and missing values count\n",
    "arousal_missing, valence_missing, arousal_summary, valence_summary\n"
   ]
  },
  {
   "cell_type": "markdown",
   "id": "9af46645-1604-46fb-b60e-0e4d6cd009a6",
   "metadata": {},
   "source": [
    "# Step 2: `PCA`\n",
    "1. PCA is used to reduce dimensionality while preserving as much variance in the data as possible. \n",
    "2. If the data has a lot of features (in this case, we have many time points for each song), PCA can help reduce it to a smaller set of features."
   ]
  },
  {
   "cell_type": "code",
   "execution_count": 8,
   "id": "91ff3a4b-398a-4d72-a8c7-52202aaacfb2",
   "metadata": {},
   "outputs": [
    {
     "name": "stderr",
     "output_type": "stream",
     "text": [
      "/var/folders/tr/m7nnfyd94_jfxmdwqvwq7hg40000gn/T/ipykernel_67474/2480152640.py:2: FutureWarning: DataFrame.fillna with 'method' is deprecated and will raise in a future version. Use obj.ffill() or obj.bfill() instead.\n",
      "  arousal_df_filled = arousal_df.fillna(method='ffill').fillna(method='bfill')\n",
      "/var/folders/tr/m7nnfyd94_jfxmdwqvwq7hg40000gn/T/ipykernel_67474/2480152640.py:3: FutureWarning: DataFrame.fillna with 'method' is deprecated and will raise in a future version. Use obj.ffill() or obj.bfill() instead.\n",
      "  valence_df_filled = valence_df.fillna(method='ffill').fillna(method='bfill')\n"
     ]
    },
    {
     "data": {
      "text/plain": [
       "(np.int64(0), np.int64(0))"
      ]
     },
     "execution_count": 8,
     "metadata": {},
     "output_type": "execute_result"
    }
   ],
   "source": [
    "# Handle missing values by forward filling and backward filling, keeping as much data as possible\n",
    "arousal_df_filled = arousal_df.fillna(method='ffill').fillna(method='bfill')\n",
    "valence_df_filled = valence_df.fillna(method='ffill').fillna(method='bfill')\n",
    "\n",
    "# Check if there are still any missing values after filling\n",
    "arousal_missing_after = arousal_df_filled.isnull().sum().sum()\n",
    "valence_missing_after = valence_df_filled.isnull().sum().sum()\n",
    "\n",
    "arousal_missing_after, valence_missing_after\n"
   ]
  },
  {
   "cell_type": "code",
   "execution_count": 9,
   "id": "61259f03-d4bb-4eaa-946d-a441876f5289",
   "metadata": {},
   "outputs": [
    {
     "data": {
      "text/plain": [
       "(array([0.6012353 , 0.13271734]), array([0.60310733, 0.21496849]))"
      ]
     },
     "execution_count": 9,
     "metadata": {},
     "output_type": "execute_result"
    }
   ],
   "source": [
    "from sklearn.decomposition import PCA\n",
    "from sklearn.preprocessing import StandardScaler\n",
    "\n",
    "# We will scale the data before applying PCA\n",
    "scaler = StandardScaler()\n",
    "\n",
    "# Remove the 'song_id' column for PCA and scale the rest of the data\n",
    "arousal_data_scaled = scaler.fit_transform(arousal_df_filled.drop(columns=['song_id']))\n",
    "valence_data_scaled = scaler.fit_transform(valence_df_filled.drop(columns=['song_id']))\n",
    "\n",
    "# Perform PCA to reduce the dimensions (let's start with 2 components)\n",
    "pca_arousal = PCA(n_components=2)\n",
    "pca_valence = PCA(n_components=2)\n",
    "\n",
    "arousal_pca_result = pca_arousal.fit_transform(arousal_data_scaled)\n",
    "valence_pca_result = pca_valence.fit_transform(valence_data_scaled)\n",
    "\n",
    "# Display the explained variance ratio for both PCA models\n",
    "pca_arousal.explained_variance_ratio_, pca_valence.explained_variance_ratio_\n"
   ]
  },
  {
   "cell_type": "markdown",
   "id": "7e7f21c0-21aa-4680-af66-1acd25e9f60f",
   "metadata": {},
   "source": [
    "# Step 3 `Clustering`\n",
    "1. It help discover natural groupings of songs based on their emotional profiles (valence and arousal).\n",
    "2. It is useful for exploring how songs might naturally fall into categories of emotions"
   ]
  },
  {
   "cell_type": "code",
   "execution_count": 10,
   "id": "cb101400-219d-4919-87b5-be9c87eba2a2",
   "metadata": {},
   "outputs": [
    {
     "data": {
      "image/png": "[encoded data removed]",
      "text/plain": [
       "<Figure size 1400x600 with 2 Axes>"
      ]
     },
     "metadata": {},
     "output_type": "display_data"
    }
   ],
   "source": [
    "from sklearn.cluster import KMeans\n",
    "import matplotlib.pyplot as plt\n",
    "\n",
    "# Perform K-Means clustering with 2 clusters (since we're interested in binary classification)\n",
    "kmeans_arousal = KMeans(n_clusters=2, random_state=42)\n",
    "kmeans_valence = KMeans(n_clusters=2, random_state=42)\n",
    "\n",
    "# Fit the models on the PCA results\n",
    "arousal_clusters = kmeans_arousal.fit_predict(arousal_pca_result)\n",
    "valence_clusters = kmeans_valence.fit_predict(valence_pca_result)\n",
    "\n",
    "# Plotting the PCA components and the clusters\n",
    "fig, (ax1, ax2) = plt.subplots(1, 2, figsize=(14, 6))\n",
    "\n",
    "# Arousal Clusters\n",
    "ax1.scatter(arousal_pca_result[:, 0], arousal_pca_result[:, 1], c=arousal_clusters, cmap='viridis')\n",
    "ax1.set_title('Arousal Clustering (PCA)')\n",
    "ax1.set_xlabel('PC1')\n",
    "ax1.set_ylabel('PC2')\n",
    "\n",
    "# Valence Clusters\n",
    "ax2.scatter(valence_pca_result[:, 0], valence_pca_result[:, 1], c=valence_clusters, cmap='viridis')\n",
    "ax2.set_title('Valence Clustering (PCA)')\n",
    "ax2.set_xlabel('PC1')\n",
    "ax2.set_ylabel('PC2')\n",
    "\n",
    "plt.show()\n"
   ]
  },
  {
   "cell_type": "markdown",
   "id": "a333748a-8102-404e-93cc-2cca5bc13111",
   "metadata": {},
   "source": [
    "# Step 4 `Classification`\n",
    "1. Classification task aims to predict binary emotional states based on the valence and arousal values.\n",
    "2. We will use models like decision trees or random forests to predict emotion labels based on the data."
   ]
  },
  {
   "cell_type": "code",
   "execution_count": 11,
   "id": "c15566b1-0e95-4cc0-a349-c02d1326092d",
   "metadata": {},
   "outputs": [
    {
     "data": {
      "text/plain": [
       "(1.0,\n",
       " '              precision    recall  f1-score   support\\n\\n           0       1.00      1.00      1.00       351\\n           1       1.00      1.00      1.00        10\\n\\n    accuracy                           1.00       361\\n   macro avg       1.00      1.00      1.00       361\\nweighted avg       1.00      1.00      1.00       361\\n')"
      ]
     },
     "execution_count": 11,
     "metadata": {},
     "output_type": "execute_result"
    }
   ],
   "source": [
    "from sklearn.ensemble import RandomForestClassifier\n",
    "from sklearn.model_selection import train_test_split\n",
    "from sklearn.metrics import classification_report, accuracy_score\n",
    "\n",
    "# Prepare the data for classification\n",
    "# Combine arousal and valence PCA results and cluster labels\n",
    "X = pd.DataFrame({\n",
    "    'arousal_PC1': arousal_pca_result[:, 0],\n",
    "    'arousal_PC2': arousal_pca_result[:, 1],\n",
    "    'valence_PC1': valence_pca_result[:, 0],\n",
    "    'valence_PC2': valence_pca_result[:, 1]\n",
    "})\n",
    "\n",
    "# Use the arousal clusters for binary classification as target labels (could use valence as well)\n",
    "y = arousal_clusters\n",
    "\n",
    "# Split the data into training and test sets (80% train, 20% test)\n",
    "X_train, X_test, y_train, y_test = train_test_split(X, y, test_size=0.2, random_state=42)\n",
    "\n",
    "# Initialize Random Forest Classifier\n",
    "rf_classifier = RandomForestClassifier(random_state=42)\n",
    "\n",
    "# Train the model\n",
    "rf_classifier.fit(X_train, y_train)\n",
    "\n",
    "# Predict on the test set\n",
    "y_pred = rf_classifier.predict(X_test)\n",
    "\n",
    "# Evaluate the model\n",
    "accuracy = accuracy_score(y_test, y_pred)\n",
    "classification_rep = classification_report(y_test, y_pred)\n",
    "\n",
    "accuracy, classification_rep\n"
   ]
  },
  {
   "cell_type": "code",
   "execution_count": 12,
   "id": "fbb86abc-438f-480c-9dd0-a5e454ec33cb",
   "metadata": {},
   "outputs": [
    {
     "data": {
      "text/plain": [
       "(np.float64(0.9949999999999999),\n",
       " np.float64(0.010000000000000009),\n",
       " array([1.   , 1.   , 1.   , 1.   , 0.975]))"
      ]
     },
     "execution_count": 12,
     "metadata": {},
     "output_type": "execute_result"
    }
   ],
   "source": [
    "from sklearn.model_selection import cross_val_score\n",
    "\n",
    "# Perform cross-validation (5-fold) to evaluate the robustness of the model\n",
    "cv_scores = cross_val_score(rf_classifier, X, y, cv=5, scoring='accuracy')\n",
    "\n",
    "# Calculate mean and standard deviation of the cross-validation scores\n",
    "cv_mean = cv_scores.mean()\n",
    "cv_std = cv_scores.std()\n",
    "\n",
    "cv_mean, cv_std, cv_scores\n"
   ]
  },
  {
   "cell_type": "code",
   "execution_count": null,
   "id": "d49ff114-65b5-4c37-92e9-f68aad379d39",
   "metadata": {},
   "outputs": [],
   "source": []
  }
 ],
 "metadata": {
  "kernelspec": {
   "display_name": "Python 3 (ipykernel)",
   "language": "python",
   "name": "python3"
  },
  "language_info": {
   "codemirror_mode": {
    "name": "ipython",
    "version": 3
   },
   "file_extension": ".py",
   "mimetype": "text/x-python",
   "name": "python",
   "nbconvert_exporter": "python",
   "pygments_lexer": "ipython3",
   "version": "3.12.6"
  }
 },
 "nbformat": 4,
 "nbformat_minor": 5
}
